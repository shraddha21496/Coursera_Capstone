{
 "cells": [
  {
   "cell_type": "markdown",
   "metadata": {},
   "source": [
    "<h1> Data"
   ]
  },
  {
   "cell_type": "markdown",
   "metadata": {},
   "source": [
    "<h3> To solve the problem, we will need the following data:"
   ]
  },
  {
   "cell_type": "markdown",
   "metadata": {},
   "source": [
    "    • List of neighbourhoods in Kuala Lumpur. This defines the scope of this project which is\n",
    "      confined to the city of Kuala Lumpur, the capital city of the country of Malaysia in South East\n",
    "      Asia.\n",
    "    • Latitude and longitude coordinates of those neighbourhoods. This is required in order to\n",
    "      plot the map and also to get the venue data.\n",
    "    • Venue data, particularly data related to shopping malls. We will use this data to perform\n",
    "      clustering on the neighbourhoods."
   ]
  },
  {
   "cell_type": "markdown",
   "metadata": {},
   "source": [
    "<h3> Sources of data and methods to extract them"
   ]
  },
  {
   "cell_type": "markdown",
   "metadata": {},
   "source": [
    "This Wikipedia page (https://en.wikipedia.org/wiki/Category:Suburbs_in_Kuala_Lumpur) contains a\n",
    "list of neighbourhoods in Kuala Lumpur, with a total of 70 neighbourhoods. We will use web scraping\n",
    "techniques to extract the data from the Wikipedia page, with the help of Python requests and\n",
    "beautifulsoup packages. Then we will get the geographical coordinates of the neighbourhoods using\n",
    "Python Geocoder package which will give us the latitude and longitude coordinates of the\n",
    "neighbourhoods.\n",
    "After that, we will use Foursquare API to get the venue data for those neighbourhoods. Foursquare\n",
    "has one of the largest database of 105+ million places and is used by over 125,000 developers.\n",
    "Foursquare API will provide many categories of the venue data, we are particularly interested in the\n",
    "Shopping Mall category in order to help us to solve the business problem put forward. This is a\n",
    "project that will make use of many data science skills, from web scraping (Wikipedia), working with\n",
    "API (Foursquare), data cleaning, data wrangling, to machine learning (K-means clustering) and map\n",
    "visualization (Folium). In the next section, we will present the Methodology section where we will\n",
    "discuss the steps taken in this project, the data analysis that we did and the machine learning\n",
    "technique that was used."
   ]
  },
  {
   "cell_type": "code",
   "execution_count": null,
   "metadata": {},
   "outputs": [],
   "source": []
  }
 ],
 "metadata": {
  "kernelspec": {
   "display_name": "Python 3",
   "language": "python",
   "name": "python3"
  },
  "language_info": {
   "codemirror_mode": {
    "name": "ipython",
    "version": 3
   },
   "file_extension": ".py",
   "mimetype": "text/x-python",
   "name": "python",
   "nbconvert_exporter": "python",
   "pygments_lexer": "ipython3",
   "version": "3.7.4"
  }
 },
 "nbformat": 4,
 "nbformat_minor": 2
}
