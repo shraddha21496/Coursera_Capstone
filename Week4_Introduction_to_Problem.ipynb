{
 "cells": [
  {
   "cell_type": "markdown",
   "metadata": {},
   "source": [
    "<h1> Introduction"
   ]
  },
  {
   "cell_type": "markdown",
   "metadata": {},
   "source": [
    "For many shoppers, visiting shopping malls is a great way to relax and enjoy themselves during\n",
    "weekends and holidays. They can do grocery shopping, dine at restaurants, shop at the various\n",
    "fashion outlets, watch movies and perform many more activities. Shopping malls are like a one-stop\n",
    "destination for all types of shoppers. For retailers, the central location and the large crowd at the\n",
    "shopping malls provides a great distribution channel to market their products and services. Property\n",
    "developers are also taking advantage of this trend to build more shopping malls to cater to the\n",
    "demand. As a result, there are many shopping malls in the city of Kuala Lumpur and many more are\n",
    "being built. Opening shopping malls allows property developers to earn consistent rental income. Of\n",
    "course, as with any business decision, opening a new shopping mall requires serious consideration\n",
    "and is a lot more complicated than it seems. Particularly, the location of the shopping mall is one of\n",
    "the most important decisions that will determine whether the mall will be a success or a failure."
   ]
  },
  {
   "cell_type": "markdown",
   "metadata": {},
   "source": [
    "<h3> Business Problem\n"
   ]
  },
  {
   "cell_type": "markdown",
   "metadata": {},
   "source": [
    "The objective of this capstone project is to analyse and select the best locations in the city of Kuala\n",
    "Lumpur, Malaysia to open a new shopping mall. Using data science methodology and machine\n",
    "learning techniques like clustering, this project aims to provide solutions to answer the business\n",
    "question: In the city of Kuala Lumpur, Malaysia, if a property developer is looking to open a new\n",
    "shopping mall, where would you recommend that they open it?"
   ]
  },
  {
   "cell_type": "markdown",
   "metadata": {},
   "source": [
    "<h3> Target Audience of this project\n"
   ]
  },
  {
   "cell_type": "markdown",
   "metadata": {},
   "source": [
    "This project is particularly useful to property developers and investors looking to open or invest in\n",
    "new shopping malls in the capital city of Malaysia i.e. Kuala Lumpur. This project is timely as the city\n",
    "is currently suffering from oversupply of shopping malls. Data from the National Property\n",
    "Information Centre (NAPIC) released last year showed that an additional 15 per cent will be added to\n",
    "existing mall space, and the agency predicted that total occupancy may dip below 86 per cent. The\n",
    "local newspaper The Malay Mail also reported in March last year that the true occupancy rates in\n",
    "malls may be as low as 40 per cent in some areas, quoting a Financial Times (FT) article cataloguing\n",
    "the country's continued obsession with building more shopping space despite chronic oversupply."
   ]
  },
  {
   "cell_type": "code",
   "execution_count": null,
   "metadata": {},
   "outputs": [],
   "source": []
  }
 ],
 "metadata": {
  "kernelspec": {
   "display_name": "Python 3",
   "language": "python",
   "name": "python3"
  },
  "language_info": {
   "codemirror_mode": {
    "name": "ipython",
    "version": 3
   },
   "file_extension": ".py",
   "mimetype": "text/x-python",
   "name": "python",
   "nbconvert_exporter": "python",
   "pygments_lexer": "ipython3",
   "version": "3.7.4"
  }
 },
 "nbformat": 4,
 "nbformat_minor": 2
}
